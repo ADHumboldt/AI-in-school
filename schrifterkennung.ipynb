{
  "nbformat": 4,
  "nbformat_minor": 0,
  "metadata": {
    "colab": {
      "name": "schrifterkennung.ipynb",
      "provenance": []
    },
    "kernelspec": {
      "name": "python3",
      "display_name": "Python 3"
    }
  },
  "cells": [
    {
      "cell_type": "code",
      "metadata": {
        "id": "3nV0nZa8NHZA",
        "colab_type": "code",
        "colab": {
          "base_uri": "https://localhost:8080/",
          "height": 724
        },
        "outputId": "c14a4d37-ae43-4d62-a449-100993bfa33a"
      },
      "source": [
        "import tensorflow as tf\n",
        "import numpy\n",
        "import matplotlib\n",
        "\n",
        "# 1. Daten aufbereiten\n",
        "mnist = tf.keras.datasets.mnist\n",
        "   \n",
        "(trainZiffernBilder, trainZiffernLabels),(testZiffernBilder, testZiffernLabels) = mnist.load_data() \n",
        "trainZiffernBilder = trainZiffernBilder / 255.0\n",
        "testZiffernBilder = testZiffernBilder / 255.0\n",
        "\n",
        "# 2. Model erstellen\n",
        "model = tf.keras.Sequential()\n",
        "model.add(tf.keras.layers.Flatten(input_shape=(28, 28)))\n",
        "model.add(tf.keras.layers.Dense(128, activation=tf.nn.relu))\n",
        "model.add(tf.keras.layers.Dense(10, activation=tf.nn.softmax))\n",
        "     \n",
        "model.compile(optimizer='adam',\n",
        "                   loss='sparse_categorical_crossentropy',\n",
        "                  metrics=['accuracy'])\n",
        "    \n",
        "# 3. Model trainieren\n",
        "model.fit(trainZiffernBilder, trainZiffernLabels, epochs=5)\n",
        "    \n",
        "# 4. Model prüfen\n",
        "verlust, genauigkeit = model.evaluate(testZiffernBilder, testZiffernLabels)\n",
        "print('Verlust: ', verlust, 'Genauigkeit: ', genauigkeit)\n",
        "     \n",
        "# 5. Testen des neuronalen Netzwerkes mit Testdaten\n",
        "gesuchteZahlIndex = 0\n",
        "erkennungsRaten = model.predict (testZiffernBilder [gesuchteZahlIndex:gesuchteZahlIndex+1])\n",
        "flattendEr = erkennungsRaten.flatten()\n",
        "flattendTZLabels = testZiffernLabels.flatten()\n",
        "    \n",
        "# 6. Test Ausgabe der gesuchten Zahl als Bild\n",
        "imageArray = numpy.asfarray (testZiffernBilder [gesuchteZahlIndex:gesuchteZahlIndex+1]).reshape((28,28))\n",
        "matplotlib.pyplot.imshow(imageArray, cmap='Greys',interpolation='None')\n",
        "matplotlib.pyplot.show()\n",
        "print (\"gesuchte Zahl: \", flattendTZLabels[gesuchteZahlIndex])\n",
        "    \n",
        "# Ausgabe der Erkennungsraten für die Zahlen 0..9\n",
        "counter = 0\n",
        "while counter < 10:\n",
        "  readAbleErkennung = flattendEr[counter] * 10000\n",
        "  readAbleErkennung = readAbleErkennung.astype(int)\n",
        "  readAbleErkennung = readAbleErkennung / 10000\n",
        "  print (\" Zahl:\", counter, \"  Erkennungsrate:\", readAbleErkennung)\n",
        "  counter = counter + 1"
      ],
      "execution_count": 4,
      "outputs": [
        {
          "output_type": "stream",
          "text": [
            "Downloading data from https://storage.googleapis.com/tensorflow/tf-keras-datasets/mnist.npz\n",
            "11493376/11490434 [==============================] - 0s 0us/step\n",
            "Epoch 1/5\n",
            "1875/1875 [==============================] - 3s 2ms/step - loss: 0.2550 - accuracy: 0.9269\n",
            "Epoch 2/5\n",
            "1875/1875 [==============================] - 3s 2ms/step - loss: 0.1131 - accuracy: 0.9666\n",
            "Epoch 3/5\n",
            "1875/1875 [==============================] - 3s 2ms/step - loss: 0.0775 - accuracy: 0.9760\n",
            "Epoch 4/5\n",
            "1875/1875 [==============================] - 3s 2ms/step - loss: 0.0577 - accuracy: 0.9822\n",
            "Epoch 5/5\n",
            "1875/1875 [==============================] - 3s 2ms/step - loss: 0.0452 - accuracy: 0.9854\n",
            "313/313 [==============================] - 0s 963us/step - loss: 0.0703 - accuracy: 0.9793\n",
            "Verlust:  0.07032065838575363 Genauigkeit:  0.9793000221252441\n"
          ],
          "name": "stdout"
        },
        {
          "output_type": "display_data",
          "data": {
            "image/png": "[encoded data removed]",
            "text/plain": [
              "<Figure size 432x288 with 1 Axes>"
            ]
          },
          "metadata": {
            "tags": [],
            "needs_background": "light"
          }
        },
        {
          "output_type": "stream",
          "text": [
            "gesuchte Zahl:  7\n",
            " Zahl: 0   Erkennungsrate: 0.0\n",
            " Zahl: 1   Erkennungsrate: 0.0\n",
            " Zahl: 2   Erkennungsrate: 0.0\n",
            " Zahl: 3   Erkennungsrate: 0.0001\n",
            " Zahl: 4   Erkennungsrate: 0.0\n",
            " Zahl: 5   Erkennungsrate: 0.0\n",
            " Zahl: 6   Erkennungsrate: 0.0\n",
            " Zahl: 7   Erkennungsrate: 0.9998\n",
            " Zahl: 8   Erkennungsrate: 0.0\n",
            " Zahl: 9   Erkennungsrate: 0.0\n"
          ],
          "name": "stdout"
        }
      ]
    }
  ]
}