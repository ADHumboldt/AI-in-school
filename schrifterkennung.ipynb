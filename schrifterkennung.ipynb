{
 "cells": [
  {
   "cell_type": "code",
   "execution_count": 1,
   "metadata": {},
   "outputs": [],
   "source": [
    "import tensorflow as tf\n",
    "import numpy\n",
    "import matplotlib"
   ]
  },
  {
   "cell_type": "code",
   "execution_count": 2,
   "metadata": {},
   "outputs": [],
   "source": [
    "mnist = tf.keras.datasets.mnist\n",
    "\n",
    "(trainZiffernBilder, trainZiffernLabels),(testZiffernBilder, testZiffernLabels) = mnist.load_data() \n",
    "trainZiffernBilder = trainZiffernBilder / 255.0\n",
    "testZiffernBilder = testZiffernBilder / 255.0"
   ]
  },
  {
   "cell_type": "code",
   "execution_count": 3,
   "metadata": {},
   "outputs": [],
   "source": [
    "model = tf.keras.Sequential()\n",
    "model.add(tf.keras.layers.Flatten(input_shape=(28, 28)))\n",
    "model.add(tf.keras.layers.Dense(128, activation=tf.nn.relu))\n",
    "model.add(tf.keras.layers.Dense(10, activation=tf.nn.softmax))\n",
    "\n",
    "model.compile(optimizer='adam', loss='sparse_categorical_crossentropy', metrics=['accuracy'])"
   ]
  },
  {
   "cell_type": "code",
   "execution_count": 4,
   "metadata": {},
   "outputs": [],
   "source": [
    "model.fit(trainZiffernBilder, trainZiffernLabels, epochs=5)\n",
    "print(\"4. Model prüfen\")\n",
    "modWeighsBsp3 = model.get_weights()"
   ]
  },
  {
   "cell_type": "code",
   "execution_count": 5,
   "metadata": {},
   "outputs": [],
   "source": [
    "verlust, genauigkeit = model.evaluate(testZiffernBilder, testZiffernLabels)\n",
    "print('Verlust: ', verlust, 'Genauigkeit: ', genauigkeit)"
   ]
  },
  {
   "cell_type": "code",
   "execution_count": 6,
   "metadata": {},
   "outputs": [],
   "source": [
    "gesuchteZahlIndex = 0\n",
    "erkennungsRaten = model.predict (testZiffernBilder [gesuchteZahlIndex:gesuchteZahlIndex+1])\n",
    "\n",
    "flattendEr = erkennungsRaten.flatten()\n",
    "flattendTZLabels = testZiffernLabels.flatten()"
   ]
  },
  {
   "cell_type": "code",
   "execution_count": 7,
   "metadata": {},
   "outputs": [],
   "source": [
    "imageArray = numpy.asfarray (testZiffernBilder [gesuchteZahlIndex:gesuchteZahlIndex+1]).reshape((28,28))\n",
    "matplotlib.pyplot.imshow(imageArray, cmap='Greys', interpolation='None')\n",
    "matplotlib.pyplot.show()\n",
    "print (\"gesuchte Zahl: \", flattendTZLabels[gesuchteZahlIndex])"
   ]
  },
  {
   "cell_type": "code",
   "execution_count": 8,
   "metadata": {},
   "outputs": [],
   "source": [
    "counter = 0\n",
    "while counter < 10:\n",
    "    readAbleErkennung = flattendEr[counter] * 10000\n",
    "    readAbleErkennung = readAbleErkennung.astype(int)\n",
    "    readAbleErkennung = readAbleErkennung / 10000\n",
    "    print (\" Zahl:\", counter, \"  Erkennungsrate:\", readAbleErkennung)\n",
    "    counter = counter + 1"
   ]
  }
 ],
 "metadata": {},
 "nbformat": 4,
 "nbformat_minor": 4
}
