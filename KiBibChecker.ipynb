{
 "cells": [
  {
   "cell_type": "code",
   "execution_count": 1,
   "metadata": {},
   "outputs": [],
   "source": [
    "import os\n",
    "import sys\n",
    "import platform\n",
    "\n",
    "print (\"::::::::::::::::::::::::::::::::::::::::::::::::::::::::::::::::::::::::::::::::::::::::\")\n",
    "print (\"::                                                                                    ::\")\n",
    "print (\"::   KI-Bibliotheken checker - ver.: 1.6.2020                                         ::\")\n",
    "print (\"::        Prüft ob typische Bibliotheken für KI/DL Entwicklung vorhanden sind.        ::\")\n",
    "print (\"::                                                                                    ::\")\n",
    "print (\"::::::::::::::::::::::::::::::::::::::::::::::::::::::::::::::::::::::::::::::::::::::::\\n\")"
   ]
  },
  {
   "cell_type": "code",
   "execution_count": 2,
   "metadata": {},
   "outputs": [],
   "source": [
    "print (\"tensorflow hat bekannte Probleme mit Python ver. 3.7. Installiert ist:: Python ver.:\",platform.python_version())\n",
    "import struct\n",
    "print (\"tensorflow benötigt 64-Bit. Installiert ist                          :: \", end = '')\n",
    "print(struct.calcsize(\"P\") * 8, \"-Bit\")\n",
    "print (\"Python Installationsort                                              ::\", os.path.dirname(sys.executable))"
   ]
  },
  {
   "cell_type": "code",
   "execution_count": 3,
   "metadata": {},
   "outputs": [],
   "source": [
    "try:\n",
    "    import tensorflow as tf\n",
    "    print (\"Bibliothek:: import tensorflow as tf                ver.:\", tf.__version__)\n",
    "    print (\"Bibliothek::        keras: tf.keras.__version__     ver.:\", tf.keras.__version__)\n",
    "except:\n",
    "    print(\"ERROR: import tensorflow\")\n",
    "\n",
    "\n",
    "# für: https://github.com/arconsis/cifar-10-with-tensorflow2/blob/master/BetterNetwork.py\n",
    "try:\n",
    "    import tensorflow_datasets as tfds\n",
    "    print (\"Bibliothek:: import tensorflow_datasets as tfds     ver.:\", tfds.__version__)\n",
    "except:\n",
    "    print(\"ERROR: import tensorflow_datasets\")"
   ]
  }
 ],
 "metadata": {},
 "nbformat": 4,
 "nbformat_minor": 4
}
